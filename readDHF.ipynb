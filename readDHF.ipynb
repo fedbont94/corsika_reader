{
 "cells": [
  {
   "cell_type": "code",
   "execution_count": 4,
   "metadata": {},
   "outputs": [],
   "source": [
    "import pandas as pd\n",
    "import numpy as np"
   ]
  },
  {
   "cell_type": "code",
   "execution_count": 5,
   "metadata": {},
   "outputs": [],
   "source": [
    "path = \"/data/user/fbontempo/corsikaMuons/proton/22335/\"\n",
    "file = \"4.4_DataFrame.hdf5\"\n",
    "\n",
    "df = pd.read_hdf(path + file)\n"
   ]
  },
  {
   "cell_type": "code",
   "execution_count": 6,
   "metadata": {},
   "outputs": [
    {
     "data": {
      "text/html": [
       "<div>\n",
       "<style scoped>\n",
       "    .dataframe tbody tr th:only-of-type {\n",
       "        vertical-align: middle;\n",
       "    }\n",
       "\n",
       "    .dataframe tbody tr th {\n",
       "        vertical-align: top;\n",
       "    }\n",
       "\n",
       "    .dataframe thead th {\n",
       "        text-align: right;\n",
       "    }\n",
       "</style>\n",
       "<table border=\"1\" class=\"dataframe\">\n",
       "  <thead>\n",
       "    <tr style=\"text-align: right;\">\n",
       "      <th></th>\n",
       "      <th>primary</th>\n",
       "      <th>energy</th>\n",
       "      <th>zenith</th>\n",
       "      <th>azimuth</th>\n",
       "      <th>total_muons</th>\n",
       "      <th>muons_above_Ecut</th>\n",
       "    </tr>\n",
       "  </thead>\n",
       "  <tbody>\n",
       "    <tr>\n",
       "      <th>0</th>\n",
       "      <td>2212.0</td>\n",
       "      <td>25700.554688</td>\n",
       "      <td>0.782057</td>\n",
       "      <td>2.462606</td>\n",
       "      <td>243</td>\n",
       "      <td>1</td>\n",
       "    </tr>\n",
       "    <tr>\n",
       "      <th>1</th>\n",
       "      <td>2212.0</td>\n",
       "      <td>26581.257812</td>\n",
       "      <td>0.402125</td>\n",
       "      <td>5.644036</td>\n",
       "      <td>521</td>\n",
       "      <td>2</td>\n",
       "    </tr>\n",
       "    <tr>\n",
       "      <th>2</th>\n",
       "      <td>2212.0</td>\n",
       "      <td>30556.353516</td>\n",
       "      <td>0.456325</td>\n",
       "      <td>1.955171</td>\n",
       "      <td>551</td>\n",
       "      <td>1</td>\n",
       "    </tr>\n",
       "    <tr>\n",
       "      <th>3</th>\n",
       "      <td>2212.0</td>\n",
       "      <td>30568.478516</td>\n",
       "      <td>0.435722</td>\n",
       "      <td>4.307096</td>\n",
       "      <td>547</td>\n",
       "      <td>3</td>\n",
       "    </tr>\n",
       "    <tr>\n",
       "      <th>4</th>\n",
       "      <td>2212.0</td>\n",
       "      <td>29701.130859</td>\n",
       "      <td>0.741137</td>\n",
       "      <td>2.315413</td>\n",
       "      <td>572</td>\n",
       "      <td>1</td>\n",
       "    </tr>\n",
       "    <tr>\n",
       "      <th>...</th>\n",
       "      <td>...</td>\n",
       "      <td>...</td>\n",
       "      <td>...</td>\n",
       "      <td>...</td>\n",
       "      <td>...</td>\n",
       "      <td>...</td>\n",
       "    </tr>\n",
       "    <tr>\n",
       "      <th>2995</th>\n",
       "      <td>2212.0</td>\n",
       "      <td>29655.064453</td>\n",
       "      <td>0.209069</td>\n",
       "      <td>2.522856</td>\n",
       "      <td>913</td>\n",
       "      <td>3</td>\n",
       "    </tr>\n",
       "    <tr>\n",
       "      <th>2996</th>\n",
       "      <td>2212.0</td>\n",
       "      <td>26712.236328</td>\n",
       "      <td>0.399978</td>\n",
       "      <td>0.304942</td>\n",
       "      <td>467</td>\n",
       "      <td>3</td>\n",
       "    </tr>\n",
       "    <tr>\n",
       "      <th>2997</th>\n",
       "      <td>2212.0</td>\n",
       "      <td>26950.300781</td>\n",
       "      <td>0.676045</td>\n",
       "      <td>5.862600</td>\n",
       "      <td>583</td>\n",
       "      <td>0</td>\n",
       "    </tr>\n",
       "    <tr>\n",
       "      <th>2998</th>\n",
       "      <td>2212.0</td>\n",
       "      <td>27444.806641</td>\n",
       "      <td>0.702878</td>\n",
       "      <td>0.962325</td>\n",
       "      <td>234</td>\n",
       "      <td>4</td>\n",
       "    </tr>\n",
       "    <tr>\n",
       "      <th>2999</th>\n",
       "      <td>2212.0</td>\n",
       "      <td>26281.673828</td>\n",
       "      <td>0.816197</td>\n",
       "      <td>2.231239</td>\n",
       "      <td>330</td>\n",
       "      <td>2</td>\n",
       "    </tr>\n",
       "  </tbody>\n",
       "</table>\n",
       "<p>3000 rows × 6 columns</p>\n",
       "</div>"
      ],
      "text/plain": [
       "      primary        energy    zenith   azimuth  total_muons  muons_above_Ecut\n",
       "0      2212.0  25700.554688  0.782057  2.462606          243                 1\n",
       "1      2212.0  26581.257812  0.402125  5.644036          521                 2\n",
       "2      2212.0  30556.353516  0.456325  1.955171          551                 1\n",
       "3      2212.0  30568.478516  0.435722  4.307096          547                 3\n",
       "4      2212.0  29701.130859  0.741137  2.315413          572                 1\n",
       "...       ...           ...       ...       ...          ...               ...\n",
       "2995   2212.0  29655.064453  0.209069  2.522856          913                 3\n",
       "2996   2212.0  26712.236328  0.399978  0.304942          467                 3\n",
       "2997   2212.0  26950.300781  0.676045  5.862600          583                 0\n",
       "2998   2212.0  27444.806641  0.702878  0.962325          234                 4\n",
       "2999   2212.0  26281.673828  0.816197  2.231239          330                 2\n",
       "\n",
       "[3000 rows x 6 columns]"
      ]
     },
     "execution_count": 6,
     "metadata": {},
     "output_type": "execute_result"
    }
   ],
   "source": [
    "df"
   ]
  },
  {
   "cell_type": "code",
   "execution_count": 7,
   "metadata": {},
   "outputs": [
    {
     "data": {
      "text/plain": [
       "1240329"
      ]
     },
     "execution_count": 7,
     "metadata": {},
     "output_type": "execute_result"
    }
   ],
   "source": [
    "np.sum(df[\"total_muons\"])"
   ]
  },
  {
   "cell_type": "code",
   "execution_count": 8,
   "metadata": {},
   "outputs": [
    {
     "data": {
      "text/plain": [
       "6268"
      ]
     },
     "execution_count": 8,
     "metadata": {},
     "output_type": "execute_result"
    }
   ],
   "source": [
    "np.sum(df[\"muons_above_Ecut\"])"
   ]
  },
  {
   "cell_type": "code",
   "execution_count": null,
   "metadata": {},
   "outputs": [],
   "source": []
  }
 ],
 "metadata": {
  "kernelspec": {
   "display_name": "virtual_env",
   "language": "python",
   "name": "python3"
  },
  "language_info": {
   "codemirror_mode": {
    "name": "ipython",
    "version": 3
   },
   "file_extension": ".py",
   "mimetype": "text/x-python",
   "name": "python",
   "nbconvert_exporter": "python",
   "pygments_lexer": "ipython3",
   "version": "3.7.5"
  },
  "orig_nbformat": 4
 },
 "nbformat": 4,
 "nbformat_minor": 2
}
